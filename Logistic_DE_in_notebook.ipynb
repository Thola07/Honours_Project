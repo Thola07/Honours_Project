{
 "cells": [
  {
   "cell_type": "markdown",
   "metadata": {},
   "source": [
    "# $\\textbf{Thola Ngema}$"
   ]
  },
  {
   "cell_type": "markdown",
   "metadata": {},
   "source": [
    "# Applied Maths Honours project: Logistic Equation In Population Growth"
   ]
  },
  {
   "cell_type": "code",
   "execution_count": 1,
   "metadata": {},
   "outputs": [],
   "source": [
    "#------$ ---------------------- START --------------------------------$ ------#\n",
    "import matplotlib\n",
    "import numpy as np\n",
    "import matplotlib.pyplot as plt # A package for plots\n",
    "# matplotlib.pyplot is a library for plotting that has every\n",
    "# plotting module bigger than pylab ( which is a subset of matplotlib ! )\n",
    "\n",
    "\n",
    "# Set up fonts for the plots\n",
    "matplotlib.rcParams.update({'font.size': 17, 'font.family': 'STIXGeneral',\\\n",
    "   'mathtext.fontset': 'stix'})"
   ]
  },
  {
   "cell_type": "markdown",
   "metadata": {},
   "source": [
    "iPYTHON Notebook is a combination of python and LaTeX because it allows one to put sentences between code blocks, such as this one.\n",
    "Since it $\\textbf{LaTeX}$ compatible you can have equations in here too. Yes you can :-)\n",
    "$$ \\frac{dN}{dt} = r \\frac{N ( K - N)}{K}$$, let $x = \\frac{N}{K}$ then we have after simplification\n",
    "$$ \\frac{dx}{dt} = r x ( 1 - x ) $$\n",
    "The analytical solution to this differential is called the $\\textit{sigmoid function}$ and it is given by\n",
    "$$ x(t) = \\frac{1}{1 + (\\frac{1 - x_{0}}{x_{0}})e^{-rt}} $$\n",
    "Re-substituting  $x = \\frac{N}{K}$ we have;\n",
    "$$ N(t) =  \\frac{K}{1 + (\\frac{K-N_0}{N_0})e^{-rt} }$$\n",
    "but here we will work in terms of $x$"
   ]
  },
  {
   "cell_type": "code",
   "execution_count": 2,
   "metadata": {},
   "outputs": [],
   "source": [
    "# Second code block : Functions\n",
    "def dxdt(x):\n",
    "    '''\n",
    "    This function returns the differential part\n",
    "    every time x is changed.\n",
    "    '''\n",
    "    f    = r*x*(1.0 - x)\n",
    "    return f\n",
    "# define analytical solution\n",
    "def x_an(K, N_0, t):\n",
    "    '''\n",
    "     Finds analytical solution given time\n",
    "    '''\n",
    "    num = 1 # numerator\n",
    "    fac = (1-x0)/x0\n",
    "    den = 1.0 + fac*np.exp(-r*t) # similar to math.exp(-r*t) \n",
    "    # divide the two expressions\n",
    "    return num/den "
   ]
  },
  {
   "cell_type": "code",
   "execution_count": 3,
   "metadata": {},
   "outputs": [],
   "source": [
    "# Third code block\n",
    "# --------------Initial conditions --------------------#\n",
    "\n",
    "t_0    = 1.; # year one\n",
    "t_f    = 100.0; # years\n",
    "N_0    = 10. # 1/2 population size every kilometre in a area, you can change this\n",
    "             # to see how it affects the stability of the solution\n",
    "K      = 300. # also change this constant too\n",
    "# Remember when tweaking these that K > N always! N and K must be floats not integers\n",
    "x0     = N_0/K; # range from zero to one\n",
    "#------------------------------------------------------#"
   ]
  },
  {
   "cell_type": "code",
   "execution_count": 4,
   "metadata": {},
   "outputs": [],
   "source": [
    "# Fourth code block\n",
    "\n",
    "# DEFINE  a stepsize\n",
    "dt = 1. # TRY 0.01 , 0.001 AND see how ot affects the accuracy of\n",
    "         # the solution. \n",
    "         #  Then try 1, 5 , 10, 100 etc\n",
    "         # You should be able to intuitively see the correct stepsize from the\n",
    "        # one that are giving you crap. Hint anything with dt > > 1 will probably won't work\n",
    "# lists\n",
    "xt        = []\n",
    "exact_sol = []\n",
    "t      = t_0 # initialize time to t0\n",
    "\n",
    "# Start with r equal to -0.5, 0, 0.5,  1.5 etc\n",
    "r      = 0.5\n",
    "i      = 0 # initialize index, this has to be an int / integer\n",
    "           # as lists can not be indexed by floats  \n",
    "xt0     = x0 \n",
    "tl   = []"
   ]
  },
  {
   "cell_type": "code",
   "execution_count": 5,
   "metadata": {},
   "outputs": [],
   "source": [
    "# Fifth code block : LOOP\n",
    "while t < t_f:\n",
    "    exact_sol.append( x_an(K, N_0, t) ) # call the analytical solution\n",
    "    tl.append(t) # save to the time keeper list\n",
    "    xt0        = xt0 + dxdt(x0)*dt# increment using the differential equation\n",
    "                                  # this is where we find the numerical solution\n",
    "    xt.append(xt0) # save to the x solution list\n",
    "    x0         = xt0 # re-shuffle to assign new value to x0 for previous l.o.c\n",
    "                     # where by l.o.c = line of code\n",
    "    i          = i+1\n",
    "    t          = t + 1."
   ]
  },
  {
   "cell_type": "code",
   "execution_count": 6,
   "metadata": {},
   "outputs": [
    {
     "name": "stdout",
     "output_type": "stream",
     "text": [
      "Number of executions :  99\n",
      "time                 :  100.0\n",
      "x solution           :  1.0\n"
     ]
    }
   ],
   "source": [
    "# Sixth code block: print statements\n",
    "print 'Number of executions : ',i  \n",
    "print \"time                 : \", t\n",
    "print \"x solution           : \", xt0"
   ]
  },
  {
   "cell_type": "code",
   "execution_count": 7,
   "metadata": {},
   "outputs": [
    {
     "data": {
      "image/png": "[encoded data removed]"
     },
     "execution_count": 7,
     "metadata": {},
     "output_type": "execute_result"
    }
   ],
   "source": [
    "# Seventh code block: Plots\n",
    "plt.figure()        \n",
    "plt.plot(tl, exact_sol, 'r-*', label=r'Analytical', lw=2)\n",
    "plt.plot(tl, xt, 'g', label=r'Numerical', lw=2) # lw = linewidth\n",
    "#plt.yscale('log') # for high values of N_0 and K uncomment this in. Put it in!\n",
    "plt.xlabel(r'$\\it{t}$')\n",
    "plt.ylabel(r'$\\it{x}(t)$')\n",
    "plt.legend(loc='best') \n",
    "plt.savefig('thola_graph1.png')"
   ]
  },
  {
   "cell_type": "code",
   "execution_count": 0,
   "metadata": {},
   "outputs": [],
   "source": []
  },
  {
   "cell_type": "code",
   "execution_count": 0,
   "metadata": {
    "collapsed": true
   },
   "outputs": [],
   "source": []
  }
 ],
 "metadata": {
  "kernelspec": {
   "display_name": "Python 3",
   "language": "python",
   "name": "python3"
  },
  "language_info": {
   "codemirror_mode": {
    "name": "ipython",
    "version": 3
   },
   "file_extension": ".py",
   "mimetype": "text/x-python",
   "name": "python",
   "nbconvert_exporter": "python",
   "pygments_lexer": "ipython3",
   "version": "3.6.8"
  },
  "name": "Logistic_DE_in_notebook.ipynb"
 },
 "nbformat": 4,
 "nbformat_minor": 1
}
